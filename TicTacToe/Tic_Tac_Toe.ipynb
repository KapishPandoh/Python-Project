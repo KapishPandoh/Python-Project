{
 "cells": [
  {
   "cell_type": "code",
   "execution_count": 1,
   "metadata": {},
   "outputs": [],
   "source": [
    "from tkinter import *\n",
    "import tkinter.font as tkFont"
   ]
  },
  {
   "cell_type": "code",
   "execution_count": 2,
   "metadata": {},
   "outputs": [],
   "source": [
    "root = Tk()"
   ]
  },
  {
   "cell_type": "code",
   "execution_count": 3,
   "metadata": {},
   "outputs": [
    {
     "data": {
      "text/plain": [
       "''"
      ]
     },
     "execution_count": 3,
     "metadata": {},
     "output_type": "execute_result"
    }
   ],
   "source": [
    "root.title(\"Tic Tac Toe\")\n",
    "\n",
    "root.geometry(\"400x400\")\n",
    "\n",
    "root.iconbitmap(\"tic-tac-toe.ico\")"
   ]
  },
  {
   "cell_type": "code",
   "execution_count": 4,
   "metadata": {},
   "outputs": [],
   "source": [
    "#Create a frame\n",
    "frame = Frame(root)\n",
    "frame.pack()"
   ]
  },
  {
   "cell_type": "code",
   "execution_count": 5,
   "metadata": {},
   "outputs": [],
   "source": [
    "font = tkFont.Font(family=\"Lucida Grande\", size=20)"
   ]
  },
  {
   "cell_type": "markdown",
   "metadata": {},
   "source": [
    "## Game Loop"
   ]
  },
  {
   "cell_type": "code",
   "execution_count": 6,
   "metadata": {},
   "outputs": [],
   "source": [
    "value=\"\"\n",
    "curValue = \"O\""
   ]
  },
  {
   "cell_type": "code",
   "execution_count": 7,
   "metadata": {},
   "outputs": [],
   "source": [
    "arr = [\n",
    "        [\"\",\"\",\"\"],\n",
    "        [\"\",\"\",\"\"],\n",
    "        [\"\",\"\",\"\"],\n",
    "      ]"
   ]
  },
  {
   "cell_type": "code",
   "execution_count": 8,
   "metadata": {},
   "outputs": [],
   "source": [
    "def gameCond():\n",
    "    \n",
    "    if (arr[0][0]==arr[0][1] and arr[0][1]==arr[0][2] and arr[0][0]!=\"\") or (arr[1][0]==arr[1][1] and arr[1][1]==arr[1][2] and arr[1][0]!=\"\") or (arr[2][0]==arr[2][1] and arr[2][1]==arr[2][2] and arr[2][2]!=\"\"):\n",
    "        return True\n",
    "    \n",
    "    elif (arr[0][0]==arr[1][0] and arr[2][0]==arr[1][0] and arr[0][0]!=\"\") or (arr[0][1]==arr[1][1] and arr[1][1]==arr[2][1] and arr[2][1]!=\"\") or (arr[0][2]==arr[1][2] and arr[1][2]==arr[2][2] and arr[2][2]!=\"\"):\n",
    "        return True\n",
    "        \n",
    "    elif (arr[0][0]==arr[1][1] and arr[1][1]==arr[2][2] and arr[0][0]!=\"\") or (arr[2][0]==arr[1][1] and arr[1][1]==arr[0][2] and arr[0][2]!=\"\"):\n",
    "        return True\n",
    "    \n",
    "    return False"
   ]
  },
  {
   "cell_type": "code",
   "execution_count": 9,
   "metadata": {},
   "outputs": [],
   "source": [
    "def clear_frame():\n",
    "    for widgets in frame.winfo_children():\n",
    "        widgets.destroy()"
   ]
  },
  {
   "cell_type": "code",
   "execution_count": 10,
   "metadata": {},
   "outputs": [],
   "source": [
    "def myClick(r , c):\n",
    "    \n",
    "    if(arr[r][c]==\"\"):\n",
    "        global value , curValue\n",
    "        value=curValue\n",
    "\n",
    "        if curValue==\"O\":\n",
    "            curValue=\"X\"\n",
    "        else:\n",
    "            curValue=\"O\"\n",
    "\n",
    "        Label(frame,text=value,font=font).grid(row=r ,column=c)\n",
    "        \n",
    "        arr[r][c]=value\n",
    "    \n",
    "    if(gameCond()):\n",
    "        clear_frame()\n",
    "        root.configure(bg='black')\n",
    "        myLabel = Label(frame ,text= f\"Player with '{value}' wins\",padx=30,pady=30,bg='black',fg=\"white\",font=font)\n",
    "        myLabel.pack()"
   ]
  },
  {
   "cell_type": "markdown",
   "metadata": {},
   "source": [
    "## Buttons"
   ]
  },
  {
   "cell_type": "code",
   "execution_count": 11,
   "metadata": {},
   "outputs": [],
   "source": [
    "but00 = Button(frame ,padx=30 ,pady=30 ,command=lambda : myClick(0,0) )\n",
    "but01 = Button(frame ,padx=30 ,pady=30 ,command=lambda : myClick(0,1) )\n",
    "but02 = Button(frame ,padx=30 ,pady=30 ,command=lambda : myClick(0,2) )\n",
    "\n",
    "but10 = Button(frame ,padx=30 ,pady=30 ,command=lambda : myClick(1,0) )\n",
    "but11 = Button(frame ,padx=30 ,pady=30 ,command=lambda : myClick(1,1) )\n",
    "but12 = Button(frame ,padx=30 ,pady=30 ,command=lambda : myClick(1,2) )\n",
    "\n",
    "but20 = Button(frame ,padx=30 ,pady=30 ,command=lambda : myClick(2,0) )\n",
    "but21 = Button(frame ,padx=30 ,pady=30 ,command=lambda : myClick(2,1) )\n",
    "but22 = Button(frame ,padx=30 ,pady=30 ,command=lambda : myClick(2,2) ) "
   ]
  },
  {
   "cell_type": "code",
   "execution_count": 12,
   "metadata": {},
   "outputs": [],
   "source": [
    "but00.grid(row=0,column=0)\n",
    "but01.grid(row=0,column=1)\n",
    "but02.grid(row=0,column=2)\n",
    "\n",
    "but10.grid(row=1,column=0)\n",
    "but11.grid(row=1,column=1)\n",
    "but12.grid(row=1,column=2)\n",
    "\n",
    "but20.grid(row=2,column=0)\n",
    "but21.grid(row=2,column=1)\n",
    "but22.grid(row=2,column=2)"
   ]
  },
  {
   "cell_type": "markdown",
   "metadata": {},
   "source": [
    "## MainLoop"
   ]
  },
  {
   "cell_type": "code",
   "execution_count": 13,
   "metadata": {},
   "outputs": [],
   "source": [
    "root.mainloop()"
   ]
  }
 ],
 "metadata": {
  "kernelspec": {
   "display_name": "Python 3",
   "language": "python",
   "name": "python3"
  },
  "language_info": {
   "codemirror_mode": {
    "name": "ipython",
    "version": 3
   },
   "file_extension": ".py",
   "mimetype": "text/x-python",
   "name": "python",
   "nbconvert_exporter": "python",
   "pygments_lexer": "ipython3",
   "version": "3.8.5"
  }
 },
 "nbformat": 4,
 "nbformat_minor": 4
}
