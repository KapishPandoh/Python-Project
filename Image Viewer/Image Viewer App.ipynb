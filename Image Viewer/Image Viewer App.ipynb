{
 "cells": [
  {
   "cell_type": "code",
   "execution_count": 1,
   "metadata": {},
   "outputs": [],
   "source": [
    "from tkinter import *\n",
    "from PIL import ImageTk,Image\n",
    "import sys"
   ]
  },
  {
   "cell_type": "code",
   "execution_count": 2,
   "metadata": {},
   "outputs": [
    {
     "data": {
      "text/plain": [
       "''"
      ]
     },
     "execution_count": 2,
     "metadata": {},
     "output_type": "execute_result"
    }
   ],
   "source": [
    "root = Tk()\n",
    "root.title(\"Image Viewer App\")"
   ]
  },
  {
   "cell_type": "code",
   "execution_count": 3,
   "metadata": {},
   "outputs": [
    {
     "data": {
      "text/plain": [
       "''"
      ]
     },
     "execution_count": 3,
     "metadata": {},
     "output_type": "execute_result"
    }
   ],
   "source": [
    "root.iconbitmap(\"nuts.ico\")"
   ]
  },
  {
   "cell_type": "code",
   "execution_count": 4,
   "metadata": {},
   "outputs": [],
   "source": [
    "my_img1 = ImageTk.PhotoImage( Image.open(\"7. Images/1.png\") )\n",
    "my_img2 = ImageTk.PhotoImage( Image.open(\"7. Images/2.png\") )\n",
    "my_img3 = ImageTk.PhotoImage( Image.open(\"7. Images/3.png\") )\n",
    "my_img4 = ImageTk.PhotoImage( Image.open(\"7. Images/4.png\") )\n",
    "my_img5 = ImageTk.PhotoImage( Image.open(\"7. Images/5.png\") )\n",
    "my_img6 = ImageTk.PhotoImage( Image.open(\"7. Images/6.png\") )\n",
    "my_img7 = ImageTk.PhotoImage( Image.open(\"7. Images/7.png\") )"
   ]
  },
  {
   "cell_type": "code",
   "execution_count": 5,
   "metadata": {},
   "outputs": [],
   "source": [
    "img = [ my_img1 , my_img2 , my_img3 , my_img4 , my_img5 , my_img6 , my_img7 ]"
   ]
  },
  {
   "cell_type": "code",
   "execution_count": 6,
   "metadata": {},
   "outputs": [],
   "source": [
    "my_label = Label(image=my_img1)\n",
    "\n",
    "my_label.grid(row=0,column=0,columnspan=3)"
   ]
  },
  {
   "cell_type": "code",
   "execution_count": 7,
   "metadata": {},
   "outputs": [],
   "source": [
    "img_num = 0"
   ]
  },
  {
   "cell_type": "code",
   "execution_count": 8,
   "metadata": {},
   "outputs": [],
   "source": [
    "def back():\n",
    "    global img_num , my_label\n",
    "    img_num -= 1\n",
    "    \n",
    "    if img_num < 0 :\n",
    "        img_num=0\n",
    "        button_back = Button(root , text=\"<<\" ,state=DISABLED)\n",
    "        return\n",
    "    \n",
    "    my_label.grid_forget()\n",
    "    my_label = Label(image=img[img_num])\n",
    "    my_label.grid(row=0,column=0,columnspan=3)"
   ]
  },
  {
   "cell_type": "code",
   "execution_count": 9,
   "metadata": {},
   "outputs": [],
   "source": [
    "def forward():\n",
    "    global img_num , my_label\n",
    "    img_num += 1\n",
    "    \n",
    "    if img_num >= len(img) :\n",
    "        img_num = len(img)-1\n",
    "        button_forward = Button(root , text=\">>\" ,state=DISABLED)\n",
    "        return\n",
    "    \n",
    "    my_label.grid_forget()\n",
    "    my_label = Label(image=img[img_num])\n",
    "    my_label.grid(row=0,column=0,columnspan=3)"
   ]
  },
  {
   "cell_type": "code",
   "execution_count": 10,
   "metadata": {},
   "outputs": [],
   "source": [
    "button_back = Button(root , text=\"<<\" ,command=back)\n",
    "button_forward = Button(root , text=\">>\" ,command=forward)\n",
    "button_exit = Button(root , text=\"Exit\" ,command=root.quit)"
   ]
  },
  {
   "cell_type": "code",
   "execution_count": 11,
   "metadata": {},
   "outputs": [],
   "source": [
    "button_back.grid(row=1,column=0)\n",
    "button_forward.grid(row=1,column=2)\n",
    "button_exit.grid(row=1,column=1)"
   ]
  },
  {
   "cell_type": "code",
   "execution_count": 12,
   "metadata": {},
   "outputs": [],
   "source": [
    "root.mainloop()"
   ]
  }
 ],
 "metadata": {
  "kernelspec": {
   "display_name": "Python 3",
   "language": "python",
   "name": "python3"
  },
  "language_info": {
   "codemirror_mode": {
    "name": "ipython",
    "version": 3
   },
   "file_extension": ".py",
   "mimetype": "text/x-python",
   "name": "python",
   "nbconvert_exporter": "python",
   "pygments_lexer": "ipython3",
   "version": "3.8.5"
  }
 },
 "nbformat": 4,
 "nbformat_minor": 4
}
