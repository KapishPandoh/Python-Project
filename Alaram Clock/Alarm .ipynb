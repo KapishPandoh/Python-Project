{
 "cells": [
  {
   "cell_type": "code",
   "execution_count": 1,
   "metadata": {},
   "outputs": [],
   "source": [
    "import datetime\n",
    "\n",
    "import time\n",
    "from time import sleep\n",
    "\n",
    "from tqdm.notebook import tqdm\n",
    "\n",
    "from playsound import playsound"
   ]
  },
  {
   "cell_type": "code",
   "execution_count": 2,
   "metadata": {},
   "outputs": [],
   "source": [
    "data = datetime.datetime.now()\n",
    "hr = int (data.strftime(\"%H\"))\n",
    "min = int (data.strftime(\"%M\"))\n",
    "sec = int (data.strftime(\"%S\"))"
   ]
  },
  {
   "cell_type": "code",
   "execution_count": 3,
   "metadata": {},
   "outputs": [],
   "source": [
    "time = \"AM\"\n",
    "alarm_time = \"AM\""
   ]
  },
  {
   "cell_type": "code",
   "execution_count": 4,
   "metadata": {},
   "outputs": [
    {
     "name": "stdout",
     "output_type": "stream",
     "text": [
      "Current Time,  15:50:36 PM\n"
     ]
    }
   ],
   "source": [
    "if hr>12:\n",
    "    time = \"PM\"\n",
    "    \n",
    "print(f\"Current Time,  {hr}:{min}:{sec} {time}\")"
   ]
  },
  {
   "cell_type": "code",
   "execution_count": 5,
   "metadata": {},
   "outputs": [
    {
     "name": "stdout",
     "output_type": "stream",
     "text": [
      "Date : March 21 , 2021\n"
     ]
    }
   ],
   "source": [
    "data = data.strftime(\"%B %d , %Y\")\n",
    "print(f\"Date : {data}\")"
   ]
  },
  {
   "cell_type": "code",
   "execution_count": 6,
   "metadata": {},
   "outputs": [
    {
     "name": "stdout",
     "output_type": "stream",
     "text": [
      "Enter Alarm hour   : 15\n",
      "Enter Alarm minute : 50\n",
      "Enter Alarm second : 50\n"
     ]
    }
   ],
   "source": [
    "alarm_hr = int(input(\"Enter Alarm hour   : \"))\n",
    "alarm_min = int(input(\"Enter Alarm minute : \"))\n",
    "alarm_sec = int(input(\"Enter Alarm second : \"))"
   ]
  },
  {
   "cell_type": "code",
   "execution_count": 7,
   "metadata": {},
   "outputs": [
    {
     "name": "stdout",
     "output_type": "stream",
     "text": [
      "Alaram Time,  15:50:50 PM\n"
     ]
    }
   ],
   "source": [
    "if hr>12:\n",
    "    alarm_time = \"PM\"\n",
    "    \n",
    "print(f\"Alaram Time,  {alarm_hr}:{alarm_min}:{alarm_sec} {alarm_time}\")"
   ]
  },
  {
   "cell_type": "code",
   "execution_count": 8,
   "metadata": {},
   "outputs": [],
   "source": [
    "data = datetime.datetime.now()\n",
    "sec = int (data.strftime(\"%S\"))\n",
    "\n",
    "if (alarm_sec<sec) :\n",
    "    alarm_sec += 60\n",
    "    alarm_min -= 1\n",
    "\n",
    "alrm_sec = alarm_sec - sec"
   ]
  },
  {
   "cell_type": "code",
   "execution_count": 9,
   "metadata": {},
   "outputs": [],
   "source": [
    "data = datetime.datetime.now()\n",
    "min = int (data.strftime(\"%M\"))\n",
    "\n",
    "if (alarm_min<min) :\n",
    "    alarm_min += 60\n",
    "    alarm_hr -= 1\n",
    "\n",
    "alrm_min = alarm_min - min"
   ]
  },
  {
   "cell_type": "code",
   "execution_count": 10,
   "metadata": {},
   "outputs": [],
   "source": [
    "data = datetime.datetime.now()\n",
    "hr = int (data.strftime(\"%H\"))\n",
    "\n",
    "alrm_hr = alarm_hr - hr"
   ]
  },
  {
   "cell_type": "code",
   "execution_count": 11,
   "metadata": {},
   "outputs": [
    {
     "data": {
      "text/plain": [
       "6"
      ]
     },
     "execution_count": 11,
     "metadata": {},
     "output_type": "execute_result"
    }
   ],
   "source": [
    "res = alrm_sec + (alrm_min*60) + (alrm_hr*60*60)\n",
    "res"
   ]
  },
  {
   "cell_type": "code",
   "execution_count": null,
   "metadata": {},
   "outputs": [
    {
     "data": {
      "application/vnd.jupyter.widget-view+json": {
       "model_id": "d7c9b3af95004352a29b7d7bf5af6c45",
       "version_major": 2,
       "version_minor": 0
      },
      "text/plain": [
       "HBox(children=(HTML(value=''), FloatProgress(value=0.0, max=6.0), HTML(value='')))"
      ]
     },
     "metadata": {},
     "output_type": "display_data"
    },
    {
     "name": "stdout",
     "output_type": "stream",
     "text": [
      "\n"
     ]
    }
   ],
   "source": [
    "for i in tqdm(range(res)):\n",
    "    sleep(1)\n",
    "    \n",
    "playsound(r'C:\\Users\\kapis\\Music\\All Songs\\My Fav Songs\\Tum Prem Ho Reprise.mp3')"
   ]
  }
 ],
 "metadata": {
  "kernelspec": {
   "display_name": "Python 3",
   "language": "python",
   "name": "python3"
  },
  "language_info": {
   "codemirror_mode": {
    "name": "ipython",
    "version": 3
   },
   "file_extension": ".py",
   "mimetype": "text/x-python",
   "name": "python",
   "nbconvert_exporter": "python",
   "pygments_lexer": "ipython3",
   "version": "3.8.5"
  }
 },
 "nbformat": 4,
 "nbformat_minor": 4
}
