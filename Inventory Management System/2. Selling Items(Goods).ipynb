{
 "cells": [
  {
   "cell_type": "code",
   "execution_count": 1,
   "metadata": {},
   "outputs": [],
   "source": [
    "import json"
   ]
  },
  {
   "cell_type": "markdown",
   "metadata": {},
   "source": [
    "## Load Json File"
   ]
  },
  {
   "cell_type": "code",
   "execution_count": 2,
   "metadata": {},
   "outputs": [],
   "source": [
    "with open(\"Records.json\" ,\"r\") as fp:\n",
    "    r = fp.read()"
   ]
  },
  {
   "cell_type": "code",
   "execution_count": 3,
   "metadata": {},
   "outputs": [
    {
     "data": {
      "text/plain": [
       "{'1001': {'Name': 'Choco Cake', 'Price': 100, 'Quantity': 23},\n",
       " '1002': {'Name': 'Milk Cake', 'Price': 800, 'Quantity': 120},\n",
       " '1003': {'Name': 'Drink', 'Price': 80, 'Quantity': 10},\n",
       " '1004': {'Name': 'Candy', 'Price': 10, 'Quantity': 1000},\n",
       " '1005': {'Name': 'Pen', 'Price': 5, 'Quantity': 150},\n",
       " '1006': {'Name': 'NoteBooks', 'Price': 45, 'Quantity': 250},\n",
       " '1007': {'Name': 'Pencil', 'Price': 5, 'Quantity': 52},\n",
       " '1008': {'Name': 'Eraser', 'Price': 2, 'Quantity': 37},\n",
       " '1009': {'Name': 'Sharpner', 'Price': 2, 'Quantity': 101},\n",
       " '1010': {'Name': 'Geometry Box', 'Price': 120, 'Quantity': 220},\n",
       " '1011': {'Name': 'Chips', 'Price': 20, 'Quantity': 1000},\n",
       " '1012': {'Name': 'Mango Juice', 'Price': 110, 'Quantity': 200},\n",
       " '1013': {'Name': 'Mix Juice', 'Price': 110, 'Quantity': 220},\n",
       " '1014': {'Name': 'Bucket', 'Price': 50, 'Quantity': 10},\n",
       " '1015': {'Name': 'Mug', 'Price': 20, 'Quantity': 20},\n",
       " '1016': {'Name': 'BedSheet', 'Price': 99, 'Quantity': 75},\n",
       " '1017': {'Name': 'Pillow', 'Price': 230, 'Quantity': 100},\n",
       " '1018': {'Name': 'TShirt', 'Price': 600, 'Quantity': 210},\n",
       " '1019': {'Name': 'Jeans', 'Price': 900, 'Quantity': 200},\n",
       " '1020': {'Name': 'Pants', 'Price': 1200, 'Quantity': 200},\n",
       " '1021': {'Name': 'Medium Medical Kit', 'Price': 1200, 'Quantity': 20},\n",
       " '1022': {'Name': 'Small Medical Kit', 'Price': 599, 'Quantity': 1000},\n",
       " '1023': {'Name': 'Large Medical Kit', 'Price': 2400, 'Quantity': 5},\n",
       " '1024': {'Name': 'Small Cosmetic Kit', 'Price': 1200, 'Quantity': 200},\n",
       " '1025': {'Name': 'Large Cosmetic Kit', 'Price': 12000, 'Quantity': 200},\n",
       " '1026': {'Name': 'Medium Cosmetic Kit', 'Price': 6000, 'Quantity': 200},\n",
       " '1027': {'Name': 'Cotton', 'Price': 999, 'Quantity': 290},\n",
       " '1028': {'Name': 'Silk', 'Price': 799, 'Quantity': 120},\n",
       " '1029': {'Name': 'Jute', 'Price': 999, 'Quantity': 70},\n",
       " '1030': {'Name': 'Wool', 'Price': 2999, 'Quantity': 90},\n",
       " '1031': {'Name': 'Phone', 'Price': 50000, 'Quantity': 12},\n",
       " '1032': {'Name': 'IPhone', 'Price': 100000, 'Quantity': 10}}"
      ]
     },
     "execution_count": 3,
     "metadata": {},
     "output_type": "execute_result"
    }
   ],
   "source": [
    "records = json.loads(r)\n",
    "records"
   ]
  },
  {
   "cell_type": "code",
   "execution_count": 4,
   "metadata": {},
   "outputs": [],
   "source": [
    "with open(\"Sales.json\" ,\"r\") as fp:\n",
    "    r = fp.read()"
   ]
  },
  {
   "cell_type": "code",
   "execution_count": 5,
   "metadata": {},
   "outputs": [
    {
     "data": {
      "text/plain": [
       "{}"
      ]
     },
     "execution_count": 5,
     "metadata": {},
     "output_type": "execute_result"
    }
   ],
   "source": [
    "sales = json.loads(r)\n",
    "sales"
   ]
  },
  {
   "cell_type": "markdown",
   "metadata": {},
   "source": [
    "## Customer Selecting Items"
   ]
  },
  {
   "cell_type": "code",
   "execution_count": 6,
   "metadata": {},
   "outputs": [],
   "source": [
    "def updateRecord(records) :\n",
    "    js = json.dumps(records)\n",
    "    with open(\"Records.json\" ,\"w\") as fp:\n",
    "        fp.write(js)"
   ]
  },
  {
   "cell_type": "code",
   "execution_count": 7,
   "metadata": {},
   "outputs": [],
   "source": [
    "def updateSales(sales):\n",
    "    js = json.dumps(sales)\n",
    "    with open(\"Sales.json\" ,\"w\") as fp:\n",
    "        fp.write(js)"
   ]
  },
  {
   "cell_type": "code",
   "execution_count": 8,
   "metadata": {},
   "outputs": [],
   "source": [
    "pattern = \"*\""
   ]
  },
  {
   "cell_type": "code",
   "execution_count": 9,
   "metadata": {
    "scrolled": false
   },
   "outputs": [
    {
     "name": "stdout",
     "output_type": "stream",
     "text": [
      "Enter 1 or any no. to continue Purchase and 0 to exit1\n",
      "Enter the product Id : 1001\n",
      "Enter the product quantity : 2\n",
      "**************************************************\n",
      "Product        :  Choco Cake\n",
      "Price          :  100\n",
      "Quantity       :  2\n",
      "**************************************************\n",
      "Billing Amount :  200\n",
      "\n",
      "\n",
      "\n",
      "Enter 1 or any no. to continue Purchase and 0 to exit1\n",
      "Enter the product Id : 1001\n",
      "Enter the product quantity : 98\n",
      "Sorry ,currently we cannot meet your requirement of  Choco Cake\n",
      "Currently we have only :21 quantity of Choco Cake\n",
      "\n",
      "\n",
      "\n",
      "Enter 1 or any no. to continue Purchase and 0 to exit0\n",
      "\n",
      "\n",
      "\n",
      "**************************************************\n",
      "**************************************************\n",
      "Thankyou for your purchase\n",
      "Grand Total :  200\n",
      "**************************************************\n",
      "**************************************************\n"
     ]
    }
   ],
   "source": [
    "grand_total = 0\n",
    "\n",
    "while True:\n",
    "    \n",
    "    cont = int(input(\"Enter 1 or any no. to continue Purchase and 0 to exit\"))\n",
    "\n",
    "    if cont!=0:\n",
    "        ui_prod     = input(\"Enter the product Id : \")\n",
    "        ui_quantity = int(input(\"Enter the product quantity : \"))\n",
    "\n",
    "        if ui_prod not in records:\n",
    "            print(\"Sorry, currently we donot have this item\")\n",
    "\n",
    "        elif(ui_quantity>records[ui_prod]['Quantity']):\n",
    "            print(\"Sorry ,currently we cannot meet your requirement of \",records[ui_prod]['Name'])\n",
    "            print(f\"Currently we have only :{records[ui_prod]['Quantity']} quantity of {records[ui_prod]['Name']}\")\n",
    "\n",
    "        else:\n",
    "            print(pattern*50)\n",
    "            print(\"Product        : \", records[ui_prod]['Name'])\n",
    "            print(\"Price          : \", records[ui_prod]['Price'])\n",
    "            print(\"Quantity       : \", ui_quantity)\n",
    "            print(pattern*50)\n",
    "            print(\"Billing Amount : \", records[ui_prod]['Price'] * ui_quantity)\n",
    "            \n",
    "            records[ui_prod]['Quantity'] = records[ui_prod]['Quantity'] - ui_quantity\n",
    "            updateRecord(records)\n",
    "            grand_total += records[ui_prod]['Price'] * ui_quantity\n",
    "            \n",
    "            \n",
    "            # for sales json\n",
    "            if ui_prod in sales :\n",
    "                sales[ui_prod]['Quantity'] += ui_quantity\n",
    "                sales[ui_prod]['Amount'] = sales[ui_prod]['Quantity']*records[ui_prod]['Price']\n",
    "            \n",
    "            else:\n",
    "                sales[ui_prod] = {'Name':records[ui_prod]['Name'] ,'Quantity':ui_quantity ,'Amount':records[ui_prod]['Price'] * ui_quantity}\n",
    "            \n",
    "            updateSales(sales)\n",
    "            \n",
    "            \n",
    "    \n",
    "    else:\n",
    "        print(\"\\n\\n\")\n",
    "        print(pattern*50)\n",
    "        print(pattern*50)\n",
    "        print(\"Thankyou for your purchase\")\n",
    "        print(\"Grand Total : \" ,grand_total)\n",
    "        print(pattern*50)\n",
    "        print(pattern*50)\n",
    "        break\n",
    "        \n",
    "    \n",
    "    print(\"\\n\\n\")"
   ]
  }
 ],
 "metadata": {
  "kernelspec": {
   "display_name": "Python 3",
   "language": "python",
   "name": "python3"
  },
  "language_info": {
   "codemirror_mode": {
    "name": "ipython",
    "version": 3
   },
   "file_extension": ".py",
   "mimetype": "text/x-python",
   "name": "python",
   "nbconvert_exporter": "python",
   "pygments_lexer": "ipython3",
   "version": "3.8.5"
  }
 },
 "nbformat": 4,
 "nbformat_minor": 4
}
