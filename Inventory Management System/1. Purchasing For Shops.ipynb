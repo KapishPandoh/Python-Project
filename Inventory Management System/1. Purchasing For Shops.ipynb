{
 "cells": [
  {
   "cell_type": "code",
   "execution_count": 1,
   "metadata": {},
   "outputs": [],
   "source": [
    "import json"
   ]
  },
  {
   "cell_type": "markdown",
   "metadata": {},
   "source": [
    "## Load Json File"
   ]
  },
  {
   "cell_type": "code",
   "execution_count": 2,
   "metadata": {},
   "outputs": [],
   "source": [
    "with open(\"Records.json\" ,\"r\") as fp:\n",
    "    r = fp.read()"
   ]
  },
  {
   "cell_type": "code",
   "execution_count": 3,
   "metadata": {},
   "outputs": [
    {
     "data": {
      "text/plain": [
       "{'1001': {'Name': 'Choco Cake', 'Price': 100, 'Quantity': 23},\n",
       " '1002': {'Name': 'Milk Cake', 'Price': 800, 'Quantity': 100},\n",
       " '1003': {'Name': 'Drink', 'Price': 80, 'Quantity': 10},\n",
       " '1004': {'Name': 'Candy', 'Price': 10, 'Quantity': 1000},\n",
       " '1005': {'Name': 'Pen', 'Price': 5, 'Quantity': 150},\n",
       " '1006': {'Name': 'NoteBooks', 'Price': 45, 'Quantity': 250},\n",
       " '1007': {'Name': 'Pencil', 'Price': 5, 'Quantity': 52},\n",
       " '1008': {'Name': 'Eraser', 'Price': 2, 'Quantity': 37},\n",
       " '1009': {'Name': 'Sharpner', 'Price': 2, 'Quantity': 101},\n",
       " '1010': {'Name': 'Geometry Box', 'Price': 120, 'Quantity': 220},\n",
       " '1011': {'Name': 'Chips', 'Price': 20, 'Quantity': 1000},\n",
       " '1012': {'Name': 'Mango Juice', 'Price': 110, 'Quantity': 200},\n",
       " '1013': {'Name': 'Mix Juice', 'Price': 110, 'Quantity': 220},\n",
       " '1014': {'Name': 'Bucket', 'Price': 50, 'Quantity': 10},\n",
       " '1015': {'Name': 'Mug', 'Price': 20, 'Quantity': 20},\n",
       " '1016': {'Name': 'BedSheet', 'Price': 99, 'Quantity': 75},\n",
       " '1017': {'Name': 'Pillow', 'Price': 230, 'Quantity': 100},\n",
       " '1018': {'Name': 'TShirt', 'Price': 600, 'Quantity': 210},\n",
       " '1019': {'Name': 'Jeans', 'Price': 900, 'Quantity': 200},\n",
       " '1020': {'Name': 'Pants', 'Price': 1200, 'Quantity': 200},\n",
       " '1021': {'Name': 'Medium Medical Kit', 'Price': 1200, 'Quantity': 20},\n",
       " '1022': {'Name': 'Small Medical Kit', 'Price': 599, 'Quantity': 1000},\n",
       " '1023': {'Name': 'Large Medical Kit', 'Price': 2400, 'Quantity': 5},\n",
       " '1024': {'Name': 'Small Cosmetic Kit', 'Price': 1200, 'Quantity': 200},\n",
       " '1025': {'Name': 'Large Cosmetic Kit', 'Price': 12000, 'Quantity': 200},\n",
       " '1026': {'Name': 'Medium Cosmetic Kit', 'Price': 6000, 'Quantity': 200},\n",
       " '1027': {'Name': 'Cotton', 'Price': 999, 'Quantity': 290},\n",
       " '1028': {'Name': 'Silk', 'Price': 799, 'Quantity': 120},\n",
       " '1029': {'Name': 'Jute', 'Price': 999, 'Quantity': 70},\n",
       " '1030': {'Name': 'Wool', 'Price': 2999, 'Quantity': 90},\n",
       " '1031': {'Name': 'Phone', 'Price': 50000, 'Quantity': 12}}"
      ]
     },
     "execution_count": 3,
     "metadata": {},
     "output_type": "execute_result"
    }
   ],
   "source": [
    "records = json.loads(r)\n",
    "records"
   ]
  },
  {
   "cell_type": "markdown",
   "metadata": {},
   "source": [
    "## Add New Item into Inventory"
   ]
  },
  {
   "cell_type": "code",
   "execution_count": 4,
   "metadata": {},
   "outputs": [
    {
     "name": "stdout",
     "output_type": "stream",
     "text": [
      "Enter no. of items Purchased : 2\n"
     ]
    }
   ],
   "source": [
    "items = int(input(\"Enter no. of items Purchased : \"))"
   ]
  },
  {
   "cell_type": "code",
   "execution_count": 5,
   "metadata": {},
   "outputs": [
    {
     "name": "stdout",
     "output_type": "stream",
     "text": [
      "Enter product id   : 1002\n",
      "Enter quantity : 20\n",
      "Milk Cake 's quantity is increased\n",
      "\n",
      "\n",
      "\n",
      "Enter product id   : 1032\n",
      "Enter name         : IPhone\n",
      "Enter price    : 100000\n",
      "Enter quantity : 10\n",
      "IPhone is added to list\n",
      "\n",
      "\n",
      "\n"
     ]
    }
   ],
   "source": [
    "for i in range(0,items):\n",
    "    \n",
    "    prod_id  = input(\"Enter product id   : \")\n",
    "    \n",
    "    if prod_id in records:\n",
    "        quant    = int(input(\"Enter quantity : \"))\n",
    "        records[prod_id]['Quantity'] += quant\n",
    "        print(records[prod_id]['Name'] , \"'s quantity is increased\")\n",
    "    \n",
    "    else:\n",
    "        name     = input(\"Enter name         : \")\n",
    "        price    = int(input(\"Enter price    : \"))\n",
    "        quant    = int(input(\"Enter quantity : \"))\n",
    "        records[prod_id] = {'Name':name , 'Price': price, 'Quantity': quant}\n",
    "        print(name ,\"is added to list\")\n",
    "    \n",
    "    print(\"\\n\\n\")"
   ]
  },
  {
   "cell_type": "markdown",
   "metadata": {},
   "source": [
    "## Updating Json File"
   ]
  },
  {
   "cell_type": "code",
   "execution_count": 6,
   "metadata": {},
   "outputs": [],
   "source": [
    "js = json.dumps(records)\n",
    "with open(\"Records.json\" ,\"w\") as fp:\n",
    "    fp.write(js)"
   ]
  },
  {
   "cell_type": "code",
   "execution_count": 7,
   "metadata": {},
   "outputs": [],
   "source": [
    "with open(\"Records.json\" ,\"r\") as fp:\n",
    "    r = fp.read()"
   ]
  },
  {
   "cell_type": "code",
   "execution_count": 8,
   "metadata": {},
   "outputs": [
    {
     "data": {
      "text/plain": [
       "{'1001': {'Name': 'Choco Cake', 'Price': 100, 'Quantity': 23},\n",
       " '1002': {'Name': 'Milk Cake', 'Price': 800, 'Quantity': 120},\n",
       " '1003': {'Name': 'Drink', 'Price': 80, 'Quantity': 10},\n",
       " '1004': {'Name': 'Candy', 'Price': 10, 'Quantity': 1000},\n",
       " '1005': {'Name': 'Pen', 'Price': 5, 'Quantity': 150},\n",
       " '1006': {'Name': 'NoteBooks', 'Price': 45, 'Quantity': 250},\n",
       " '1007': {'Name': 'Pencil', 'Price': 5, 'Quantity': 52},\n",
       " '1008': {'Name': 'Eraser', 'Price': 2, 'Quantity': 37},\n",
       " '1009': {'Name': 'Sharpner', 'Price': 2, 'Quantity': 101},\n",
       " '1010': {'Name': 'Geometry Box', 'Price': 120, 'Quantity': 220},\n",
       " '1011': {'Name': 'Chips', 'Price': 20, 'Quantity': 1000},\n",
       " '1012': {'Name': 'Mango Juice', 'Price': 110, 'Quantity': 200},\n",
       " '1013': {'Name': 'Mix Juice', 'Price': 110, 'Quantity': 220},\n",
       " '1014': {'Name': 'Bucket', 'Price': 50, 'Quantity': 10},\n",
       " '1015': {'Name': 'Mug', 'Price': 20, 'Quantity': 20},\n",
       " '1016': {'Name': 'BedSheet', 'Price': 99, 'Quantity': 75},\n",
       " '1017': {'Name': 'Pillow', 'Price': 230, 'Quantity': 100},\n",
       " '1018': {'Name': 'TShirt', 'Price': 600, 'Quantity': 210},\n",
       " '1019': {'Name': 'Jeans', 'Price': 900, 'Quantity': 200},\n",
       " '1020': {'Name': 'Pants', 'Price': 1200, 'Quantity': 200},\n",
       " '1021': {'Name': 'Medium Medical Kit', 'Price': 1200, 'Quantity': 20},\n",
       " '1022': {'Name': 'Small Medical Kit', 'Price': 599, 'Quantity': 1000},\n",
       " '1023': {'Name': 'Large Medical Kit', 'Price': 2400, 'Quantity': 5},\n",
       " '1024': {'Name': 'Small Cosmetic Kit', 'Price': 1200, 'Quantity': 200},\n",
       " '1025': {'Name': 'Large Cosmetic Kit', 'Price': 12000, 'Quantity': 200},\n",
       " '1026': {'Name': 'Medium Cosmetic Kit', 'Price': 6000, 'Quantity': 200},\n",
       " '1027': {'Name': 'Cotton', 'Price': 999, 'Quantity': 290},\n",
       " '1028': {'Name': 'Silk', 'Price': 799, 'Quantity': 120},\n",
       " '1029': {'Name': 'Jute', 'Price': 999, 'Quantity': 70},\n",
       " '1030': {'Name': 'Wool', 'Price': 2999, 'Quantity': 90},\n",
       " '1031': {'Name': 'Phone', 'Price': 50000, 'Quantity': 12},\n",
       " '1032': {'Name': 'IPhone', 'Price': 100000, 'Quantity': 10}}"
      ]
     },
     "execution_count": 8,
     "metadata": {},
     "output_type": "execute_result"
    }
   ],
   "source": [
    "records = json.loads(r)\n",
    "records"
   ]
  },
  {
   "cell_type": "code",
   "execution_count": null,
   "metadata": {},
   "outputs": [],
   "source": []
  }
 ],
 "metadata": {
  "kernelspec": {
   "display_name": "Python 3",
   "language": "python",
   "name": "python3"
  },
  "language_info": {
   "codemirror_mode": {
    "name": "ipython",
    "version": 3
   },
   "file_extension": ".py",
   "mimetype": "text/x-python",
   "name": "python",
   "nbconvert_exporter": "python",
   "pygments_lexer": "ipython3",
   "version": "3.8.5"
  }
 },
 "nbformat": 4,
 "nbformat_minor": 4
}
