{
 "cells": [
  {
   "cell_type": "markdown",
   "metadata": {},
   "source": [
    "# Import Modules"
   ]
  },
  {
   "cell_type": "code",
   "execution_count": 1,
   "metadata": {},
   "outputs": [
    {
     "name": "stdout",
     "output_type": "stream",
     "text": [
      "pygame 2.0.1 (SDL 2.0.14, Python 3.8.5)\n",
      "Hello from the pygame community. https://www.pygame.org/contribute.html\n"
     ]
    }
   ],
   "source": [
    "import pygame"
   ]
  },
  {
   "cell_type": "code",
   "execution_count": 2,
   "metadata": {},
   "outputs": [],
   "source": [
    "import sys"
   ]
  },
  {
   "cell_type": "code",
   "execution_count": 3,
   "metadata": {},
   "outputs": [],
   "source": [
    "import random"
   ]
  },
  {
   "cell_type": "code",
   "execution_count": 4,
   "metadata": {},
   "outputs": [],
   "source": [
    "import warnings\n",
    "warnings.filterwarnings(\"ignore\")"
   ]
  },
  {
   "cell_type": "markdown",
   "metadata": {},
   "source": [
    "# Start Pygame "
   ]
  },
  {
   "cell_type": "code",
   "execution_count": 5,
   "metadata": {},
   "outputs": [
    {
     "data": {
      "text/plain": [
       "(7, 0)"
      ]
     },
     "execution_count": 5,
     "metadata": {},
     "output_type": "execute_result"
    }
   ],
   "source": [
    "pygame.init()"
   ]
  },
  {
   "cell_type": "markdown",
   "metadata": {},
   "source": [
    "# Game Title"
   ]
  },
  {
   "cell_type": "code",
   "execution_count": 6,
   "metadata": {},
   "outputs": [],
   "source": [
    "pygame.display.set_caption(\"Snake Game Using Pygame\")"
   ]
  },
  {
   "cell_type": "markdown",
   "metadata": {},
   "source": [
    "# Screen "
   ]
  },
  {
   "cell_type": "code",
   "execution_count": 7,
   "metadata": {},
   "outputs": [],
   "source": [
    "screen_width  = 900\n",
    "screen_height = 600\n",
    "\n",
    "screen = pygame.display.set_mode((screen_width,screen_height))"
   ]
  },
  {
   "cell_type": "markdown",
   "metadata": {},
   "source": [
    "# Font"
   ]
  },
  {
   "cell_type": "code",
   "execution_count": 8,
   "metadata": {},
   "outputs": [],
   "source": [
    "font = pygame.font.Font('freesansbold.ttf' ,24)"
   ]
  },
  {
   "cell_type": "markdown",
   "metadata": {},
   "source": [
    "# Clock"
   ]
  },
  {
   "cell_type": "code",
   "execution_count": 9,
   "metadata": {},
   "outputs": [],
   "source": [
    "#fps:frame per second\n",
    "fps = 30\n",
    "\n",
    "clock = pygame.time.Clock() "
   ]
  },
  {
   "cell_type": "markdown",
   "metadata": {},
   "source": [
    "# Snake "
   ]
  },
  {
   "cell_type": "code",
   "execution_count": 10,
   "metadata": {},
   "outputs": [],
   "source": [
    "snake_x = screen_width/2\n",
    "snake_y = screen_height/2\n",
    "snake_size = 20\n",
    "\n",
    "vel_x = 0\n",
    "vel_y = 0"
   ]
  },
  {
   "cell_type": "code",
   "execution_count": 11,
   "metadata": {},
   "outputs": [],
   "source": [
    "snake_list = []\n",
    "snake_len = 1"
   ]
  },
  {
   "cell_type": "code",
   "execution_count": 12,
   "metadata": {},
   "outputs": [],
   "source": [
    "def player():\n",
    "    for x,y in snake_list :\n",
    "        pygame.draw.rect(screen ,(0,0,0) ,[x ,y ,snake_size ,snake_size])"
   ]
  },
  {
   "cell_type": "markdown",
   "metadata": {},
   "source": [
    "# Food"
   ]
  },
  {
   "cell_type": "code",
   "execution_count": 13,
   "metadata": {},
   "outputs": [],
   "source": [
    "food_x = random.randint(30,screen_width-20) \n",
    "food_y = random.randint(30,screen_height-20)\n",
    "\n",
    "food_size = 20"
   ]
  },
  {
   "cell_type": "code",
   "execution_count": 14,
   "metadata": {},
   "outputs": [],
   "source": [
    "def food():\n",
    "    pygame.draw.rect(screen ,(255,0,0) ,[food_x ,food_y ,food_size ,food_size])    "
   ]
  },
  {
   "cell_type": "markdown",
   "metadata": {},
   "source": [
    "# High Score"
   ]
  },
  {
   "cell_type": "code",
   "execution_count": 15,
   "metadata": {},
   "outputs": [],
   "source": [
    "high_score = \"\"\n",
    "with open(\"HighScore.txt\",\"r\") as fp:\n",
    "    high_score = fp.read()"
   ]
  },
  {
   "cell_type": "markdown",
   "metadata": {},
   "source": [
    "# Score"
   ]
  },
  {
   "cell_type": "code",
   "execution_count": 16,
   "metadata": {},
   "outputs": [],
   "source": [
    "score = 0"
   ]
  },
  {
   "cell_type": "code",
   "execution_count": 17,
   "metadata": {},
   "outputs": [],
   "source": [
    "def get_score():\n",
    "    scr  = font.render(\"Score : \" +str(score)+\"  HighScore : \"+high_score , True , (0,0,0))\n",
    "    screen.blit(scr ,(0,0))"
   ]
  },
  {
   "cell_type": "markdown",
   "metadata": {},
   "source": [
    "# Game over"
   ]
  },
  {
   "cell_type": "code",
   "execution_count": 18,
   "metadata": {},
   "outputs": [],
   "source": [
    "def gameover():\n",
    "    screen.fill((0,0,0))\n",
    "    \n",
    "    text = font.render(\"Game Over \" , True , (255,255,255))\n",
    "    high = font.render(\"High Score : \" +str(high_score) , True , (255,255,255))\n",
    "    scr  = font.render(\"Your Score : \" +str(score) , True , (255,255,255))\n",
    "    \n",
    "    screen.blit(text,(350,210))\n",
    "    screen.blit(high,(350,250))\n",
    "    screen.blit(scr ,(350,290))\n",
    "    pygame.display.update()"
   ]
  },
  {
   "cell_type": "markdown",
   "metadata": {},
   "source": [
    "# Game Loop"
   ]
  },
  {
   "cell_type": "code",
   "execution_count": 19,
   "metadata": {},
   "outputs": [
    {
     "ename": "SystemExit",
     "evalue": "",
     "output_type": "error",
     "traceback": [
      "An exception has occurred, use %tb to see the full traceback.\n",
      "\u001b[1;31mSystemExit\u001b[0m\n"
     ]
    }
   ],
   "source": [
    "while True :\n",
    "    screen.fill((255,255,255))\n",
    "    \n",
    "    for event in pygame.event.get():\n",
    "        if event.type == pygame.QUIT :\n",
    "            pygame.quit()\n",
    "            sys.exit()\n",
    "        \n",
    "        if event.type == pygame.KEYDOWN :\n",
    "            \n",
    "            if event.key == pygame.K_UP :\n",
    "                vel_y = -5\n",
    "                vel_x = 0\n",
    "            if event.key == pygame.K_DOWN :\n",
    "                vel_y = 5\n",
    "                vel_x = 0\n",
    "                \n",
    "            if event.key == pygame.K_RIGHT :\n",
    "                vel_x = 5\n",
    "                vel_y = 0\n",
    "            if event.key == pygame.K_LEFT :\n",
    "                vel_x = -5\n",
    "                vel_y = 0\n",
    "    \n",
    "    \n",
    "    snake_x +=vel_x\n",
    "    snake_y +=vel_y\n",
    "    \n",
    "    if abs(snake_x-food_x)<15 and abs(snake_y-food_y)<15 :\n",
    "        score += 1\n",
    "        food_x = random.randint(10,screen_width-30) \n",
    "        food_y = random.randint(10,screen_height-30)\n",
    "        snake_len += 5\n",
    "    \n",
    "    \n",
    "    head = []\n",
    "    head.append(snake_x)\n",
    "    head.append(snake_y)\n",
    "    snake_list.append(head)\n",
    "    \n",
    "    if len(snake_list)>snake_len :\n",
    "        del snake_list[0]\n",
    "      \n",
    "    \n",
    "    #        except last one\n",
    "    if head in snake_list[:-1] :\n",
    "        snake_x = -1\n",
    "        \n",
    "    if snake_x<0 or snake_x>880  or snake_y<0 or snake_y>580:\n",
    "        if score>int(high_score):\n",
    "            with open(\"HighScore.txt\",\"w\") as fp:\n",
    "                fp.write(str(score))\n",
    "        gameover()\n",
    "     \n",
    "    \n",
    "    else :\n",
    "\n",
    "        get_score()\n",
    "        food()    \n",
    "        player()\n",
    "\n",
    "    pygame.display.update()\n",
    "    clock.tick(fps)"
   ]
  },
  {
   "cell_type": "code",
   "execution_count": null,
   "metadata": {},
   "outputs": [],
   "source": []
  }
 ],
 "metadata": {
  "kernelspec": {
   "display_name": "Python 3",
   "language": "python",
   "name": "python3"
  },
  "language_info": {
   "codemirror_mode": {
    "name": "ipython",
    "version": 3
   },
   "file_extension": ".py",
   "mimetype": "text/x-python",
   "name": "python",
   "nbconvert_exporter": "python",
   "pygments_lexer": "ipython3",
   "version": "3.8.5"
  }
 },
 "nbformat": 4,
 "nbformat_minor": 4
}
