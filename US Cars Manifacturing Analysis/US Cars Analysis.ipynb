{
 "cells": [
  {
   "cell_type": "code",
   "execution_count": 1,
   "metadata": {},
   "outputs": [],
   "source": [
    "import pandas as pd\n",
    "import numpy as np"
   ]
  },
  {
   "cell_type": "code",
   "execution_count": 2,
   "metadata": {},
   "outputs": [],
   "source": [
    "import matplotlib.pyplot as plt\n",
    "%matplotlib inline"
   ]
  },
  {
   "cell_type": "code",
   "execution_count": 50,
   "metadata": {},
   "outputs": [
    {
     "data": {
      "text/html": [
       "<div>\n",
       "<style scoped>\n",
       "    .dataframe tbody tr th:only-of-type {\n",
       "        vertical-align: middle;\n",
       "    }\n",
       "\n",
       "    .dataframe tbody tr th {\n",
       "        vertical-align: top;\n",
       "    }\n",
       "\n",
       "    .dataframe thead th {\n",
       "        text-align: right;\n",
       "    }\n",
       "</style>\n",
       "<table border=\"1\" class=\"dataframe\">\n",
       "  <thead>\n",
       "    <tr style=\"text-align: right;\">\n",
       "      <th></th>\n",
       "      <th>Unnamed: 0</th>\n",
       "      <th>price</th>\n",
       "      <th>brand</th>\n",
       "      <th>model</th>\n",
       "      <th>year</th>\n",
       "      <th>title_status</th>\n",
       "      <th>mileage</th>\n",
       "      <th>color</th>\n",
       "      <th>vin</th>\n",
       "      <th>lot</th>\n",
       "      <th>state</th>\n",
       "      <th>country</th>\n",
       "      <th>condition</th>\n",
       "    </tr>\n",
       "  </thead>\n",
       "  <tbody>\n",
       "    <tr>\n",
       "      <th>0</th>\n",
       "      <td>0</td>\n",
       "      <td>6300</td>\n",
       "      <td>toyota</td>\n",
       "      <td>cruiser</td>\n",
       "      <td>2008</td>\n",
       "      <td>clean vehicle</td>\n",
       "      <td>274117.0</td>\n",
       "      <td>black</td>\n",
       "      <td>jtezu11f88k007763</td>\n",
       "      <td>159348797</td>\n",
       "      <td>new jersey</td>\n",
       "      <td>usa</td>\n",
       "      <td>10 days left</td>\n",
       "    </tr>\n",
       "    <tr>\n",
       "      <th>1</th>\n",
       "      <td>1</td>\n",
       "      <td>2899</td>\n",
       "      <td>ford</td>\n",
       "      <td>se</td>\n",
       "      <td>2011</td>\n",
       "      <td>clean vehicle</td>\n",
       "      <td>190552.0</td>\n",
       "      <td>silver</td>\n",
       "      <td>2fmdk3gc4bbb02217</td>\n",
       "      <td>166951262</td>\n",
       "      <td>tennessee</td>\n",
       "      <td>usa</td>\n",
       "      <td>6 days left</td>\n",
       "    </tr>\n",
       "    <tr>\n",
       "      <th>2</th>\n",
       "      <td>2</td>\n",
       "      <td>5350</td>\n",
       "      <td>dodge</td>\n",
       "      <td>mpv</td>\n",
       "      <td>2018</td>\n",
       "      <td>clean vehicle</td>\n",
       "      <td>39590.0</td>\n",
       "      <td>silver</td>\n",
       "      <td>3c4pdcgg5jt346413</td>\n",
       "      <td>167655728</td>\n",
       "      <td>georgia</td>\n",
       "      <td>usa</td>\n",
       "      <td>2 days left</td>\n",
       "    </tr>\n",
       "    <tr>\n",
       "      <th>3</th>\n",
       "      <td>3</td>\n",
       "      <td>25000</td>\n",
       "      <td>ford</td>\n",
       "      <td>door</td>\n",
       "      <td>2014</td>\n",
       "      <td>clean vehicle</td>\n",
       "      <td>64146.0</td>\n",
       "      <td>blue</td>\n",
       "      <td>1ftfw1et4efc23745</td>\n",
       "      <td>167753855</td>\n",
       "      <td>virginia</td>\n",
       "      <td>usa</td>\n",
       "      <td>22 hours left</td>\n",
       "    </tr>\n",
       "    <tr>\n",
       "      <th>4</th>\n",
       "      <td>4</td>\n",
       "      <td>27700</td>\n",
       "      <td>chevrolet</td>\n",
       "      <td>1500</td>\n",
       "      <td>2018</td>\n",
       "      <td>clean vehicle</td>\n",
       "      <td>6654.0</td>\n",
       "      <td>red</td>\n",
       "      <td>3gcpcrec2jg473991</td>\n",
       "      <td>167763266</td>\n",
       "      <td>florida</td>\n",
       "      <td>usa</td>\n",
       "      <td>22 hours left</td>\n",
       "    </tr>\n",
       "  </tbody>\n",
       "</table>\n",
       "</div>"
      ],
      "text/plain": [
       "   Unnamed: 0  price      brand    model  year   title_status   mileage  \\\n",
       "0           0   6300     toyota  cruiser  2008  clean vehicle  274117.0   \n",
       "1           1   2899       ford       se  2011  clean vehicle  190552.0   \n",
       "2           2   5350      dodge      mpv  2018  clean vehicle   39590.0   \n",
       "3           3  25000       ford     door  2014  clean vehicle   64146.0   \n",
       "4           4  27700  chevrolet     1500  2018  clean vehicle    6654.0   \n",
       "\n",
       "    color                  vin        lot       state country      condition  \n",
       "0   black    jtezu11f88k007763  159348797  new jersey     usa   10 days left  \n",
       "1  silver    2fmdk3gc4bbb02217  166951262   tennessee     usa    6 days left  \n",
       "2  silver    3c4pdcgg5jt346413  167655728     georgia     usa    2 days left  \n",
       "3    blue    1ftfw1et4efc23745  167753855    virginia     usa  22 hours left  \n",
       "4     red    3gcpcrec2jg473991  167763266     florida     usa  22 hours left  "
      ]
     },
     "execution_count": 50,
     "metadata": {},
     "output_type": "execute_result"
    }
   ],
   "source": [
    "data = pd.read_csv(\"USA_cars_datasets.csv\")\n",
    "data.head()"
   ]
  },
  {
   "cell_type": "code",
   "execution_count": 52,
   "metadata": {},
   "outputs": [
    {
     "data": {
      "text/plain": [
       "(2499, 13)"
      ]
     },
     "execution_count": 52,
     "metadata": {},
     "output_type": "execute_result"
    }
   ],
   "source": [
    "data.shape"
   ]
  },
  {
   "cell_type": "code",
   "execution_count": 54,
   "metadata": {},
   "outputs": [
    {
     "data": {
      "text/html": [
       "<div>\n",
       "<style scoped>\n",
       "    .dataframe tbody tr th:only-of-type {\n",
       "        vertical-align: middle;\n",
       "    }\n",
       "\n",
       "    .dataframe tbody tr th {\n",
       "        vertical-align: top;\n",
       "    }\n",
       "\n",
       "    .dataframe thead th {\n",
       "        text-align: right;\n",
       "    }\n",
       "</style>\n",
       "<table border=\"1\" class=\"dataframe\">\n",
       "  <thead>\n",
       "    <tr style=\"text-align: right;\">\n",
       "      <th></th>\n",
       "      <th>count</th>\n",
       "      <th>mean</th>\n",
       "      <th>std</th>\n",
       "      <th>min</th>\n",
       "      <th>25%</th>\n",
       "      <th>50%</th>\n",
       "      <th>75%</th>\n",
       "      <th>max</th>\n",
       "    </tr>\n",
       "  </thead>\n",
       "  <tbody>\n",
       "    <tr>\n",
       "      <th>Unnamed: 0</th>\n",
       "      <td>2499.0</td>\n",
       "      <td>1.249000e+03</td>\n",
       "      <td>721.543484</td>\n",
       "      <td>0.0</td>\n",
       "      <td>624.5</td>\n",
       "      <td>1249.0</td>\n",
       "      <td>1873.5</td>\n",
       "      <td>2498.0</td>\n",
       "    </tr>\n",
       "    <tr>\n",
       "      <th>price</th>\n",
       "      <td>2499.0</td>\n",
       "      <td>1.876767e+04</td>\n",
       "      <td>12116.094936</td>\n",
       "      <td>0.0</td>\n",
       "      <td>10200.0</td>\n",
       "      <td>16900.0</td>\n",
       "      <td>25555.5</td>\n",
       "      <td>84900.0</td>\n",
       "    </tr>\n",
       "    <tr>\n",
       "      <th>year</th>\n",
       "      <td>2499.0</td>\n",
       "      <td>2.016714e+03</td>\n",
       "      <td>3.442656</td>\n",
       "      <td>1973.0</td>\n",
       "      <td>2016.0</td>\n",
       "      <td>2018.0</td>\n",
       "      <td>2019.0</td>\n",
       "      <td>2020.0</td>\n",
       "    </tr>\n",
       "    <tr>\n",
       "      <th>mileage</th>\n",
       "      <td>2499.0</td>\n",
       "      <td>5.229869e+04</td>\n",
       "      <td>59705.516356</td>\n",
       "      <td>0.0</td>\n",
       "      <td>21466.5</td>\n",
       "      <td>35365.0</td>\n",
       "      <td>63472.5</td>\n",
       "      <td>1017936.0</td>\n",
       "    </tr>\n",
       "    <tr>\n",
       "      <th>lot</th>\n",
       "      <td>2499.0</td>\n",
       "      <td>1.676914e+08</td>\n",
       "      <td>203877.210516</td>\n",
       "      <td>159348797.0</td>\n",
       "      <td>167625331.0</td>\n",
       "      <td>167745058.0</td>\n",
       "      <td>167779772.0</td>\n",
       "      <td>167805500.0</td>\n",
       "    </tr>\n",
       "  </tbody>\n",
       "</table>\n",
       "</div>"
      ],
      "text/plain": [
       "             count          mean            std          min          25%  \\\n",
       "Unnamed: 0  2499.0  1.249000e+03     721.543484          0.0        624.5   \n",
       "price       2499.0  1.876767e+04   12116.094936          0.0      10200.0   \n",
       "year        2499.0  2.016714e+03       3.442656       1973.0       2016.0   \n",
       "mileage     2499.0  5.229869e+04   59705.516356          0.0      21466.5   \n",
       "lot         2499.0  1.676914e+08  203877.210516  159348797.0  167625331.0   \n",
       "\n",
       "                    50%          75%          max  \n",
       "Unnamed: 0       1249.0       1873.5       2498.0  \n",
       "price           16900.0      25555.5      84900.0  \n",
       "year             2018.0       2019.0       2020.0  \n",
       "mileage         35365.0      63472.5    1017936.0  \n",
       "lot         167745058.0  167779772.0  167805500.0  "
      ]
     },
     "execution_count": 54,
     "metadata": {},
     "output_type": "execute_result"
    }
   ],
   "source": [
    "data.describe().T"
   ]
  },
  {
   "cell_type": "code",
   "execution_count": 51,
   "metadata": {},
   "outputs": [
    {
     "data": {
      "text/plain": [
       "Unnamed: 0      0\n",
       "price           0\n",
       "brand           0\n",
       "model           0\n",
       "year            0\n",
       "title_status    0\n",
       "mileage         0\n",
       "color           0\n",
       "vin             0\n",
       "lot             0\n",
       "state           0\n",
       "country         0\n",
       "condition       0\n",
       "dtype: int64"
      ]
     },
     "execution_count": 51,
     "metadata": {},
     "output_type": "execute_result"
    }
   ],
   "source": [
    "data.isnull().sum()"
   ]
  },
  {
   "cell_type": "code",
   "execution_count": 55,
   "metadata": {},
   "outputs": [
    {
     "data": {
      "text/html": [
       "<div>\n",
       "<style scoped>\n",
       "    .dataframe tbody tr th:only-of-type {\n",
       "        vertical-align: middle;\n",
       "    }\n",
       "\n",
       "    .dataframe tbody tr th {\n",
       "        vertical-align: top;\n",
       "    }\n",
       "\n",
       "    .dataframe thead th {\n",
       "        text-align: right;\n",
       "    }\n",
       "</style>\n",
       "<table border=\"1\" class=\"dataframe\">\n",
       "  <thead>\n",
       "    <tr style=\"text-align: right;\">\n",
       "      <th></th>\n",
       "      <th>Unnamed: 0</th>\n",
       "      <th>price</th>\n",
       "      <th>brand</th>\n",
       "      <th>model</th>\n",
       "      <th>year</th>\n",
       "      <th>title_status</th>\n",
       "      <th>mileage</th>\n",
       "      <th>color</th>\n",
       "      <th>vin</th>\n",
       "      <th>lot</th>\n",
       "      <th>state</th>\n",
       "      <th>country</th>\n",
       "      <th>condition</th>\n",
       "    </tr>\n",
       "  </thead>\n",
       "  <tbody>\n",
       "  </tbody>\n",
       "</table>\n",
       "</div>"
      ],
      "text/plain": [
       "Empty DataFrame\n",
       "Columns: [Unnamed: 0, price, brand, model, year, title_status, mileage, color, vin, lot, state, country, condition]\n",
       "Index: []"
      ]
     },
     "execution_count": 55,
     "metadata": {},
     "output_type": "execute_result"
    }
   ],
   "source": [
    "data[data.duplicated()]"
   ]
  },
  {
   "cell_type": "markdown",
   "metadata": {},
   "source": [
    "## US Cars Manifacturing Analysis"
   ]
  },
  {
   "cell_type": "markdown",
   "metadata": {},
   "source": [
    "**1. Top 5 Car brands in terms of number of cars**"
   ]
  },
  {
   "cell_type": "code",
   "execution_count": 57,
   "metadata": {},
   "outputs": [
    {
     "data": {
      "text/plain": [
       "ford         1235\n",
       "dodge         432\n",
       "nissan        312\n",
       "chevrolet     297\n",
       "gmc            42\n",
       "Name: brand, dtype: int64"
      ]
     },
     "execution_count": 57,
     "metadata": {},
     "output_type": "execute_result"
    }
   ],
   "source": [
    "top5_brand = data['brand'].value_counts()\n",
    "top5_brand = top5_brand[:5]\n",
    "top5_brand"
   ]
  },
  {
   "cell_type": "code",
   "execution_count": 61,
   "metadata": {},
   "outputs": [
    {
     "data": {
      "text/plain": [
       "Text(0.5, 1.0, 'Top 5 Brand')"
      ]
     },
     "execution_count": 61,
     "metadata": {},
     "output_type": "execute_result"
    },
    {
     "data": {
      "image/png": "[encoded data removed]",
      "text/plain": [
       "<Figure size 432x288 with 1 Axes>"
      ]
     },
     "metadata": {
      "needs_background": "light"
     },
     "output_type": "display_data"
    }
   ],
   "source": [
    "plt.bar(top5_brand.index ,top5_brand)\n",
    "plt.xticks(rotation=90);\n",
    "\n",
    "plt.title('Top 5 Brand')"
   ]
  },
  {
   "cell_type": "markdown",
   "metadata": {},
   "source": [
    "**2.Car brand based on Frequency of Cars**"
   ]
  },
  {
   "cell_type": "code",
   "execution_count": 64,
   "metadata": {},
   "outputs": [],
   "source": [
    "car_brand = data['brand'].value_counts()"
   ]
  },
  {
   "cell_type": "code",
   "execution_count": 66,
   "metadata": {},
   "outputs": [
    {
     "data": {
      "text/plain": [
       "Text(0.5, 1.0, 'Car Brand')"
      ]
     },
     "execution_count": 66,
     "metadata": {},
     "output_type": "execute_result"
    },
    {
     "data": {
      "image/png": "[encoded data removed]",
      "text/plain": [
       "<Figure size 864x576 with 1 Axes>"
      ]
     },
     "metadata": {
      "needs_background": "light"
     },
     "output_type": "display_data"
    }
   ],
   "source": [
    "plt.figure(figsize=(12,8))\n",
    "\n",
    "plt.bar(car_brand.index ,car_brand)\n",
    "\n",
    "plt.xticks(rotation=90);\n",
    "plt.title(\"Car Brand\")"
   ]
  },
  {
   "cell_type": "markdown",
   "metadata": {},
   "source": [
    "**3. Car Industry Trend**"
   ]
  },
  {
   "cell_type": "code",
   "execution_count": 72,
   "metadata": {},
   "outputs": [],
   "source": [
    "year_trend = data['year'].value_counts().sort_index()"
   ]
  },
  {
   "cell_type": "code",
   "execution_count": 74,
   "metadata": {
    "scrolled": true
   },
   "outputs": [
    {
     "data": {
      "text/plain": [
       "1973      1\n",
       "1984      1\n",
       "1993      1\n",
       "1994      2\n",
       "1995      1\n",
       "1996      2\n",
       "1997      2\n",
       "1998      4\n",
       "1999      1\n",
       "2000      4\n",
       "2001      5\n",
       "2002      2\n",
       "2003      9\n",
       "2004      6\n",
       "2005      6\n",
       "2006      8\n",
       "2007      6\n",
       "2008     18\n",
       "2009     11\n",
       "2010     13\n",
       "2011     23\n",
       "2012     72\n",
       "2013     86\n",
       "2014    104\n",
       "2015    196\n",
       "2016    203\n",
       "2017    377\n",
       "2018    395\n",
       "2019    892\n",
       "2020     48\n",
       "Name: year, dtype: int64"
      ]
     },
     "execution_count": 74,
     "metadata": {},
     "output_type": "execute_result"
    }
   ],
   "source": [
    "year_trend"
   ]
  },
  {
   "cell_type": "code",
   "execution_count": 75,
   "metadata": {},
   "outputs": [
    {
     "data": {
      "text/plain": [
       "Text(0.5, 1.0, 'Trend of Car Industry over years')"
      ]
     },
     "execution_count": 75,
     "metadata": {},
     "output_type": "execute_result"
    },
    {
     "data": {
      "image/png": "[encoded data removed]",
      "text/plain": [
       "<Figure size 432x288 with 1 Axes>"
      ]
     },
     "metadata": {
      "needs_background": "light"
     },
     "output_type": "display_data"
    }
   ],
   "source": [
    "plt.plot(year_trend)\n",
    "\n",
    "plt.xlabel(\"Years\")\n",
    "plt.ylabel(\"Market\")\n",
    "\n",
    "plt.title(\"Trend of Car Industry over years\")"
   ]
  },
  {
   "cell_type": "markdown",
   "metadata": {},
   "source": [
    "**4. Most Popular Car Colors**"
   ]
  },
  {
   "cell_type": "code",
   "execution_count": 76,
   "metadata": {
    "scrolled": true
   },
   "outputs": [
    {
     "data": {
      "text/plain": [
       "white                                      707\n",
       "black                                      516\n",
       "gray                                       395\n",
       "silver                                     300\n",
       "red                                        192\n",
       "blue                                       151\n",
       "no_color                                    61\n",
       "green                                       24\n",
       "orange                                      20\n",
       "gold                                        19\n",
       "charcoal                                    18\n",
       "brown                                       15\n",
       "yellow                                       9\n",
       "magnetic metallic                            6\n",
       "color:                                       5\n",
       "beige                                        5\n",
       "shadow black                                 5\n",
       "oxford white                                 4\n",
       "ingot silver metallic                        4\n",
       "super black                                  3\n",
       "triple yellow tri-coat                       3\n",
       "billet silver metallic clearcoat             3\n",
       "black clearcoat                              2\n",
       "off-white                                    2\n",
       "ruby red metallic tinted clearcoat           2\n",
       "white platinum tri-coat metallic             2\n",
       "tuxedo black metallic                        2\n",
       "cayenne red                                  2\n",
       "bright white clearcoat                       2\n",
       "maroon                                       1\n",
       "ingot silver                                 1\n",
       "morningsky blue                              1\n",
       "turquoise                                    1\n",
       "purple                                       1\n",
       "competition orange                           1\n",
       "glacier white                                1\n",
       "toreador red                                 1\n",
       "dark blue                                    1\n",
       "phantom black                                1\n",
       "jazz blue pearlcoat                          1\n",
       "tan                                          1\n",
       "kona blue metallic                           1\n",
       "pearl white                                  1\n",
       "guard                                        1\n",
       "light blue                                   1\n",
       "lightning blue                               1\n",
       "royal crimson metallic tinted clearcoat      1\n",
       "ruby red                                     1\n",
       "burgundy                                     1\n",
       "Name: color, dtype: int64"
      ]
     },
     "execution_count": 76,
     "metadata": {},
     "output_type": "execute_result"
    }
   ],
   "source": [
    "color = data['color'].value_counts()\n",
    "color"
   ]
  },
  {
   "cell_type": "code",
   "execution_count": 78,
   "metadata": {},
   "outputs": [
    {
     "data": {
      "text/plain": [
       "Text(0.5, 1.0, 'Car Color')"
      ]
     },
     "execution_count": 78,
     "metadata": {},
     "output_type": "execute_result"
    },
    {
     "data": {
      "image/png": "[encoded data removed]",
      "text/plain": [
       "<Figure size 864x576 with 1 Axes>"
      ]
     },
     "metadata": {
      "needs_background": "light"
     },
     "output_type": "display_data"
    }
   ],
   "source": [
    "plt.figure(figsize=(12,8))\n",
    "\n",
    "plt.bar(color.index ,color)\n",
    "\n",
    "plt.xticks(rotation=90);\n",
    "\n",
    "plt.xlabel('Car Color')\n",
    "plt.ylabel('Count')\n",
    "plt.title(\"Car Color\")"
   ]
  },
  {
   "cell_type": "markdown",
   "metadata": {},
   "source": [
    "**5. Which car brand is having Maximum Average Price**"
   ]
  },
  {
   "cell_type": "code",
   "execution_count": 81,
   "metadata": {},
   "outputs": [
    {
     "data": {
      "text/plain": [
       "brand\n",
       "harley-davidson    54680.000000\n",
       "lexus              33220.000000\n",
       "maserati           30300.000000\n",
       "land               28900.000000\n",
       "mercedes-benz      28704.000000\n",
       "bmw                26397.058824\n",
       "cadillac           24941.000000\n",
       "ford               21666.888259\n",
       "buick              19715.769231\n",
       "chevrolet          18669.952862\n",
       "lincoln            18150.000000\n",
       "dodge              17781.988426\n",
       "audi               13981.250000\n",
       "chrysler           13686.111111\n",
       "infiniti           13098.333333\n",
       "nissan             12065.820513\n",
       "kia                11123.846154\n",
       "ram                11050.000000\n",
       "jeep               10933.833333\n",
       "gmc                10657.380952\n",
       "mazda               8000.000000\n",
       "acura               7266.666667\n",
       "toyota              6300.000000\n",
       "honda               6127.500000\n",
       "hyundai             5203.200000\n",
       "heartland           2966.000000\n",
       "jaguar              2800.000000\n",
       "peterbilt            400.000000\n",
       "Name: price, dtype: float64"
      ]
     },
     "execution_count": 81,
     "metadata": {},
     "output_type": "execute_result"
    }
   ],
   "source": [
    "max_avg_price = data.groupby('brand')['price'].mean()\n",
    "max_avg_price = max_avg_price.sort_values(ascending=False)\n",
    "max_avg_price"
   ]
  },
  {
   "cell_type": "code",
   "execution_count": 82,
   "metadata": {},
   "outputs": [
    {
     "data": {
      "text/plain": [
       "Text(0.5, 1.0, 'Brand  vs  Max. Avg. Price')"
      ]
     },
     "execution_count": 82,
     "metadata": {},
     "output_type": "execute_result"
    },
    {
     "data": {
      "image/png": "[encoded data removed]",
      "text/plain": [
       "<Figure size 864x576 with 1 Axes>"
      ]
     },
     "metadata": {
      "needs_background": "light"
     },
     "output_type": "display_data"
    }
   ],
   "source": [
    "plt.figure(figsize=(12,8))\n",
    "\n",
    "plt.bar(max_avg_price.index ,max_avg_price)\n",
    "\n",
    "plt.xticks(rotation=90);\n",
    "\n",
    "plt.xlabel('Brand')\n",
    "plt.ylabel('Max. Avg. Price')\n",
    "plt.title(\"Brand  vs  Max. Avg. Price\")"
   ]
  },
  {
   "cell_type": "markdown",
   "metadata": {},
   "source": [
    "**6. Which State is having most expensive cars**"
   ]
  },
  {
   "cell_type": "code",
   "execution_count": 89,
   "metadata": {},
   "outputs": [
    {
     "data": {
      "text/plain": [
       "84900     1\n",
       "74000     1\n",
       "70000     1\n",
       "67000     1\n",
       "65500     1\n",
       "         ..\n",
       "100       1\n",
       "75        3\n",
       "50        2\n",
       "25       18\n",
       "0        43\n",
       "Name: price, Length: 790, dtype: int64"
      ]
     },
     "execution_count": 89,
     "metadata": {},
     "output_type": "execute_result"
    }
   ],
   "source": [
    "data['price'].value_counts().sort_index(ascending = False)"
   ]
  },
  {
   "cell_type": "code",
   "execution_count": 90,
   "metadata": {},
   "outputs": [
    {
     "data": {
      "text/plain": [
       "790"
      ]
     },
     "execution_count": 90,
     "metadata": {},
     "output_type": "execute_result"
    }
   ],
   "source": [
    "len(data['price'].unique())"
   ]
  },
  {
   "cell_type": "code",
   "execution_count": 85,
   "metadata": {},
   "outputs": [],
   "source": [
    "state_car = data.groupby('state')['price'].mean()\n",
    "state_car = state_car.sort_values(ascending = False)\n",
    "state_car"
   ]
  },
  {
   "cell_type": "code",
   "execution_count": 91,
   "metadata": {},
   "outputs": [
    {
     "data": {
      "text/plain": [
       "Text(0.5, 1.0, ' State vs Most Expensive cars')"
      ]
     },
     "execution_count": 91,
     "metadata": {},
     "output_type": "execute_result"
    },
    {
     "data": {
      "image/png": "[encoded data removed]",
      "text/plain": [
       "<Figure size 864x576 with 1 Axes>"
      ]
     },
     "metadata": {
      "needs_background": "light"
     },
     "output_type": "display_data"
    }
   ],
   "source": [
    "plt.figure(figsize=(12,8))\n",
    "\n",
    "plt.bar(state_car.index ,state_car)\n",
    "\n",
    "plt.xticks(rotation=90);\n",
    "\n",
    "plt.xlabel('State')\n",
    "plt.ylabel('Avg. Price')\n",
    "plt.title(\" State vs Most Expensive cars\")"
   ]
  },
  {
   "cell_type": "code",
   "execution_count": null,
   "metadata": {},
   "outputs": [],
   "source": [
    "plt.figure(figsize=(12,8))\n",
    "\n",
    "plt.bar(max_avg_price.index ,max_avg_price)\n",
    "\n",
    "plt.xticks(rotation=90);"
   ]
  }
 ],
 "metadata": {
  "kernelspec": {
   "display_name": "Python 3",
   "language": "python",
   "name": "python3"
  },
  "language_info": {
   "codemirror_mode": {
    "name": "ipython",
    "version": 3
   },
   "file_extension": ".py",
   "mimetype": "text/x-python",
   "name": "python",
   "nbconvert_exporter": "python",
   "pygments_lexer": "ipython3",
   "version": "3.8.5"
  }
 },
 "nbformat": 4,
 "nbformat_minor": 4
}
