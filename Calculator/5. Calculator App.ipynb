{
 "cells": [
  {
   "cell_type": "code",
   "execution_count": 1,
   "metadata": {},
   "outputs": [],
   "source": [
    "from tkinter import *"
   ]
  },
  {
   "cell_type": "code",
   "execution_count": 2,
   "metadata": {},
   "outputs": [
    {
     "data": {
      "text/plain": [
       "''"
      ]
     },
     "execution_count": 2,
     "metadata": {},
     "output_type": "execute_result"
    }
   ],
   "source": [
    "# Window\n",
    "root = Tk()\n",
    "\n",
    "# Window Title Name\n",
    "root.title(\"Simple Calculator\")"
   ]
  },
  {
   "cell_type": "code",
   "execution_count": 3,
   "metadata": {},
   "outputs": [],
   "source": [
    "e = Entry(root ,width=35 ,borderwidth=5)\n",
    "\n",
    "# Will create a widget in row 0 and that spans across columns 1, 2 , 3 and 4\n",
    "e.grid(row=0 ,column=0 ,columnspan=4 ,padx=10 ,pady=10)"
   ]
  },
  {
   "cell_type": "code",
   "execution_count": 4,
   "metadata": {},
   "outputs": [],
   "source": [
    "# Text on entry box\n",
    "\n",
    "def button_click(number):\n",
    "    current = e.get()\n",
    "\n",
    "    #delete which is already in yhe box\n",
    "    e.delete(0,END)\n",
    "    e.insert(0 ,str(current)+str(number))"
   ]
  },
  {
   "cell_type": "code",
   "execution_count": 5,
   "metadata": {},
   "outputs": [],
   "source": [
    "def button_Add():\n",
    "    n1 = e.get()\n",
    "    \n",
    "    global num\n",
    "    global math\n",
    "    \n",
    "    math=\"addition\"\n",
    "    num = int(n1)\n",
    "    \n",
    "    e.delete(0,END)\n",
    "    "
   ]
  },
  {
   "cell_type": "code",
   "execution_count": 6,
   "metadata": {},
   "outputs": [],
   "source": [
    "def button_Sub():\n",
    "    n1 = e.get()\n",
    "    \n",
    "    global num\n",
    "    global math\n",
    "    \n",
    "    math=\"subraction\"\n",
    "    num = int(n1)\n",
    "    \n",
    "    e.delete(0,END)\n",
    "    "
   ]
  },
  {
   "cell_type": "code",
   "execution_count": 7,
   "metadata": {},
   "outputs": [],
   "source": [
    "def button_Multiply():\n",
    "    n1 = e.get()\n",
    "    \n",
    "    global num\n",
    "    global math\n",
    "    \n",
    "    math=\"multiply\"\n",
    "    num = int(n1)\n",
    "    \n",
    "    e.delete(0,END)\n",
    "    "
   ]
  },
  {
   "cell_type": "code",
   "execution_count": 8,
   "metadata": {},
   "outputs": [],
   "source": [
    "def button_Division():\n",
    "    n1 = e.get()\n",
    "    \n",
    "    global num\n",
    "    global math\n",
    "    \n",
    "    math=\"division\"\n",
    "    num = int(n1)\n",
    "    \n",
    "    e.delete(0,END)\n",
    "    "
   ]
  },
  {
   "cell_type": "code",
   "execution_count": 9,
   "metadata": {},
   "outputs": [],
   "source": [
    "def button_Clear():\n",
    "    e.delete(0,END)"
   ]
  },
  {
   "cell_type": "code",
   "execution_count": 10,
   "metadata": {},
   "outputs": [],
   "source": [
    "def button_Equal():\n",
    "    n2 = e.get()\n",
    "    e.delete(0,END)\n",
    "    \n",
    "    if math==\"addition\":\n",
    "        e.insert(0 ,num+int(n2))\n",
    "    \n",
    "    elif math==\"subraction\":\n",
    "        e.insert(0 ,num-int(n2))\n",
    "             \n",
    "    elif math==\"multiply\":\n",
    "        e.insert(0 ,num*int(n2))\n",
    "             \n",
    "    elif math==\"division\":\n",
    "        e.insert(0 ,num/int(n2))"
   ]
  },
  {
   "cell_type": "code",
   "execution_count": 11,
   "metadata": {},
   "outputs": [],
   "source": [
    "button_1 = Button(root ,text=\"1\" ,padx=40 ,pady=20 ,command=lambda:button_click(1))\n",
    "button_2 = Button(root ,text=\"2\" ,padx=40 ,pady=20 ,command=lambda:button_click(2))\n",
    "button_3 = Button(root ,text=\"3\" ,padx=40 ,pady=20 ,command=lambda:button_click(3))\n",
    "button_4 = Button(root ,text=\"4\" ,padx=40 ,pady=20 ,command=lambda:button_click(4))\n",
    "button_5 = Button(root ,text=\"5\" ,padx=40 ,pady=20 ,command=lambda:button_click(5))\n",
    "button_6 = Button(root ,text=\"6\" ,padx=40 ,pady=20 ,command=lambda:button_click(6))\n",
    "button_7 = Button(root ,text=\"7\" ,padx=40 ,pady=20 ,command=lambda:button_click(7))\n",
    "button_8 = Button(root ,text=\"8\" ,padx=40 ,pady=20 ,command=lambda:button_click(8))\n",
    "button_9 = Button(root ,text=\"9\" ,padx=40 ,pady=20 ,command=lambda:button_click(9))\n",
    "button_0 = Button(root ,text=\"0\" ,padx=40 ,pady=20 ,command=lambda:button_click(0))\n",
    "\n",
    "button_clear = Button(root ,text=\"Clear\" ,padx=80 ,pady=20 ,command=button_Clear) \n",
    "button_equal = Button(root ,text=\"=\" ,padx=200 ,pady=20 ,command=button_Equal)\n",
    "\n",
    "button_add      = Button(root ,text=\"+\" ,padx=40 ,pady=20 ,command=button_Add)\n",
    "button_sub      = Button(root ,text=\"-\" ,padx=40 ,pady=20 ,command=button_Sub)\n",
    "button_multiply = Button(root ,text=\"*\" ,padx=40 ,pady=20 ,command=button_Multiply)\n",
    "button_division = Button(root ,text=\"/\" ,padx=40 ,pady=20 ,command=button_Division)"
   ]
  },
  {
   "cell_type": "code",
   "execution_count": 12,
   "metadata": {},
   "outputs": [],
   "source": [
    "# Put Buttons on screen\n",
    "\n",
    "button_division.grid(row=1 ,column=0)\n",
    "button_7.grid(row=1 ,column=1)\n",
    "button_8.grid(row=1 ,column=2)\n",
    "button_9.grid(row=1 ,column=3)\n",
    "\n",
    "\n",
    "button_multiply.grid(row=2 ,column=0)\n",
    "button_4.grid(row=2 ,column=1)\n",
    "button_5.grid(row=2 ,column=2)\n",
    "button_6.grid(row=2 ,column=3)\n",
    "\n",
    "\n",
    "button_sub.grid(row=3 ,column=0)\n",
    "button_1.grid(row=3 ,column=1)\n",
    "button_2.grid(row=3 ,column=2)\n",
    "button_3.grid(row=3 ,column=3)\n",
    "\n",
    "\n",
    "button_add.grid(row=4 ,column=0)\n",
    "button_0.grid(row=4 ,column=1)\n",
    "button_clear.grid(row=4 ,column=2 ,columnspan=3)\n",
    "\n",
    "\n",
    "button_equal.grid(row=5,column=0,columnspan=4)"
   ]
  },
  {
   "cell_type": "code",
   "execution_count": 13,
   "metadata": {},
   "outputs": [],
   "source": [
    "root.mainloop()"
   ]
  },
  {
   "cell_type": "code",
   "execution_count": null,
   "metadata": {},
   "outputs": [],
   "source": []
  }
 ],
 "metadata": {
  "kernelspec": {
   "display_name": "Python 3",
   "language": "python",
   "name": "python3"
  },
  "language_info": {
   "codemirror_mode": {
    "name": "ipython",
    "version": 3
   },
   "file_extension": ".py",
   "mimetype": "text/x-python",
   "name": "python",
   "nbconvert_exporter": "python",
   "pygments_lexer": "ipython3",
   "version": "3.8.5"
  }
 },
 "nbformat": 4,
 "nbformat_minor": 4
}
